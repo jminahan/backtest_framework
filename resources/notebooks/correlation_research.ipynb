{
 "cells": [
  {
   "cell_type": "code",
   "execution_count": 1,
   "metadata": {},
   "outputs": [],
   "source": [
    "import sys\n",
    "def addBacktestAsModule():\n",
    "    notebooks_dir = sys.path[0]\n",
    "    backtest_framework = notebooks_dir.split(\"/\")[0:-2]\n",
    "    retString = \"/\"\n",
    "    sys.path.append(retString.join(backtest_framework) + \"/\")\n",
    "addBacktestAsModule()"
   ]
  },
  {
   "cell_type": "code",
   "execution_count": 2,
   "metadata": {},
   "outputs": [],
   "source": [
    "import utils.consts as consts\n",
    "from utils.src.mongointerface.modelutils.SymbolMongoInterface import SymbolMongoInterface\n",
    "from utils.src.mongointerface.mongointerface import MongoInterface"
   ]
  },
  {
   "cell_type": "code",
   "execution_count": 3,
   "metadata": {},
   "outputs": [],
   "source": [
    "        params = {\n",
    "                consts.DB_CONNECTION_FIELD : consts.DB_CONNECTION,\n",
    "                consts.DB_CONNECTION_HOST_FIELD : consts.DB_CONNECTION_HOST,\n",
    "                consts.DB_CONNECTION_PORT_FIELD : consts.DB_CONNECTION_PORT,\n",
    "                consts.SIM_PARAMS_FIELD : {\n",
    "                    consts.SIM_PARAMS_TICKER_LIST_FIELD : consts.SIM_PARAMS_TICKER_LIST,\n",
    "                    consts.SIM_PARAMS_START_DATE_FIELD : consts.SIM_PARAMS_START_DATE,\n",
    "                    consts.SIM_PARAMS_END_DATE_FIELD : consts.SIM_PARAMS_END_DATE\n",
    "                }\n",
    "        }"
   ]
  },
  {
   "cell_type": "code",
   "execution_count": 4,
   "metadata": {},
   "outputs": [],
   "source": [
    "monInterface = MongoInterface(params)\n",
    "df = SymbolMongoInterface.getSymbolsDF()"
   ]
  },
  {
   "cell_type": "code",
   "execution_count": 11,
   "metadata": {},
   "outputs": [
    {
     "data": {
      "text/plain": [
       "'A'"
      ]
     },
     "execution_count": 11,
     "metadata": {},
     "output_type": "execute_result"
    }
   ],
   "source": []
  },
  {
   "cell_type": "code",
   "execution_count": null,
   "metadata": {},
   "outputs": [],
   "source": []
  }
 ],
 "metadata": {
  "kernelspec": {
   "display_name": "Python 3",
   "language": "python",
   "name": "python3"
  },
  "language_info": {
   "codemirror_mode": {
    "name": "ipython",
    "version": 3
   },
   "file_extension": ".py",
   "mimetype": "text/x-python",
   "name": "python",
   "nbconvert_exporter": "python",
   "pygments_lexer": "ipython3",
   "version": "3.8.2"
  }
 },
 "nbformat": 4,
 "nbformat_minor": 4
}
